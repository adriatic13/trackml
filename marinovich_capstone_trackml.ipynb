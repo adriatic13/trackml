{
 "cells": [
  {
   "cell_type": "code",
   "execution_count": 2,
   "metadata": {},
   "outputs": [],
   "source": [
    "# R notebook with markdown, with version control via GitHub repository: github.com/adriatic13/trackml"
   ]
  },
  {
   "cell_type": "markdown",
   "metadata": {},
   "source": [
    "The capstone project comprises the Kaggle TrackML Particle Tracking Challenge (https://www.kaggle.com/c/trackml-particle-identification/) and related submission dataset, code and jupyter notebook. This challenges participants to \"build an algorithm that quickly reconstructs particle tracks from 3D points left in the silicon detectors\" in the CERN Large Hadron Collider, specifically to \"group the recorded measurements or hits for each event into tracks, sets of hits that belong to the same initial particle. A solution must uniquely associate each hit to one track.\" The client would be the high-energy physics research community, which has demand for new algorithms to process increasing data loads from next-generation particle experiments. The training and test datasets are provided by CERN via Kaggle, and consist of 3D simulated measurements of particles resulting from proton collisions, such that the \"training dataset contains the recorded hits, their ground truth counterpart and their association to particles, and the initial parameters of those particles. The test dataset contains only the recorded hits.\" \n",
    "\n",
    "The overall approach is to use machine learning algorithms to classify the detector hits into groups corresponding to the presumed particle tracks giving rise to those hits. The immediate deliverable will be the submission dataset to the Kaggle challenge, consisting of a csv file with three columns corresponding to events, hits and tracks. This will be verified against the ground truths held by the challenge administrators, and ranked accordingly. Subsequent deliverables following the challenge deadline will be the code itself embedded within a jupyter notebook. The challenge entry deadline is August 6, 2018, and the final submission deadline is August 13, 2018."
   ]
  }
 ],
 "metadata": {
  "kernelspec": {
   "display_name": "R",
   "language": "R",
   "name": "r"
  },
  "language_info": {
   "codemirror_mode": "r",
   "file_extension": ".r",
   "mimetype": "text/x-r-source",
   "name": "R",
   "pygments_lexer": "r",
   "version": "3.4.1"
  }
 },
 "nbformat": 4,
 "nbformat_minor": 2
}
